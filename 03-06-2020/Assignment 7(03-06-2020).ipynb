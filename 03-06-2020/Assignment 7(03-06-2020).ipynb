{
 "cells": [
  {
   "cell_type": "markdown",
   "metadata": {},
   "source": [
    "# CSE-221710308025-K.SAHITH REDDY"
   ]
  },
  {
   "cell_type": "code",
   "execution_count": 3,
   "metadata": {},
   "outputs": [],
   "source": [
    "# Print the contents of a file line by line putting a line number for each line\n",
    "f = open(\"hi.txt\", \"a\")\n",
    "f.write(\" hi everyone\\n how are you \\n stay safe\\n stay home\")\n",
    "f.close()"
   ]
  },
  {
   "cell_type": "code",
   "execution_count": 4,
   "metadata": {},
   "outputs": [
    {
     "name": "stdout",
     "output_type": "stream",
     "text": [
      "1 .   hi everyone\n",
      "\n",
      "2 .   how are you \n",
      "\n",
      "3 .   stay safe\n",
      "\n",
      "4 .   stay home\n"
     ]
    }
   ],
   "source": [
    "with open(\"hi.txt\",\"r\") as f:\n",
    "    i=1\n",
    "    for line in f:\n",
    "        print(i,\". \",line)\n",
    "        i+=1"
   ]
  },
  {
   "cell_type": "code",
   "execution_count": 5,
   "metadata": {},
   "outputs": [],
   "source": [
    "# Copy the contents of a text file into another, printing the reversed version of each input line\n",
    "\n",
    "with open(\"hi.txt\",\"r\") as f:\n",
    "    with open(\"hi1.txt\",\"w\") as f1:     \n",
    "        for line in f:\n",
    "            f1.write(line)"
   ]
  },
  {
   "cell_type": "code",
   "execution_count": 6,
   "metadata": {},
   "outputs": [
    {
     "name": "stdout",
     "output_type": "stream",
     "text": [
      "\n",
      "enoyreve ih \n",
      "\n",
      " uoy era woh \n",
      "\n",
      "efas yats \n",
      "emoh yats \n"
     ]
    }
   ],
   "source": [
    "#displaying contents in reverse order\n",
    "with open(\"hi1.txt\",\"r\") as f1:\n",
    "        for line in f1:                   \n",
    "            print(line[::-1])"
   ]
  },
  {
   "cell_type": "code",
   "execution_count": 7,
   "metadata": {},
   "outputs": [
    {
     "name": "stdout",
     "output_type": "stream",
     "text": [
      "True\n",
      "[1, 2, 3]\n"
     ]
    }
   ],
   "source": [
    "# Function to find duplicates in lists\n",
    "def duplicate(l):\n",
    "    for i in l:\n",
    "        if(l.count(i)>1):\n",
    "            return True\n",
    "            break\n",
    "        else:\n",
    "            continue\n",
    "    return False\n",
    "def removed(f):\n",
    "    for i in l:\n",
    "        if i not in li:\n",
    "            li.append(i)\n",
    "    return li\n",
    "l = [1,2,3,2]\n",
    "li= []\n",
    "f = (duplicate(l))\n",
    "print(f)\n",
    "if(f == True):\n",
    "    print(removed(l))"
   ]
  },
  {
   "cell_type": "code",
   "execution_count": 10,
   "metadata": {},
   "outputs": [
    {
     "name": "stdout",
     "output_type": "stream",
     "text": [
      "0.5\n",
      "1.25\n",
      "-0.25\n",
      "0.375\n",
      "0.6666666666666666\n",
      "1.25\n"
     ]
    }
   ],
   "source": [
    "#Develop a package for fractions. Develop a module that performs operations on fractions. It should have methods to create fractions, perform operations on two fractions, simplify a fraction, and print a fraction. You should use that package and illustrate those operations.\n",
    "    \n",
    "from fractions import Fraction\n",
    "a = Fraction(1, 2)\n",
    "print(float(a))\n",
    "b=Fraction(1, 2) + Fraction(3, 4)\n",
    "print(float(b))\n",
    "c=Fraction(1, 2) - Fraction(3, 4)\n",
    "print(float(c))\n",
    "d=Fraction(1, 2) * Fraction(3, 4)\n",
    "print(float(d))\n",
    "e=Fraction(1, 2) / Fraction(3, 4)\n",
    "print(float(e))\n",
    "f=Fraction(1, 2) % Fraction(3, 4)\n",
    "print(float(b))"
   ]
  },
  {
   "cell_type": "code",
   "execution_count": 11,
   "metadata": {},
   "outputs": [
    {
     "name": "stdout",
     "output_type": "stream",
     "text": [
      "True\n"
     ]
    }
   ],
   "source": [
    "#A permutation of a list is another list with the same elements, but in a possibly different order. For example, [1,2,1]         is a permutation of [2,1,1], but not of [1,2,2]. Write a functionisPermutation (list1, list2): boolthat returns True if         its arguments are permutations of each other.\n",
    "def ispermutation(l1,l2):\n",
    "    sum1 = sum(l1)\n",
    "    sum2 = sum(l2)\n",
    "    if sum1 == sum2:\n",
    "        return True\n",
    "    else:\n",
    "        return False\n",
    "l1 = [1,2,1]\n",
    "l2 = [1,1,2]\n",
    "print(ispermutation(l1,l2))"
   ]
  },
  {
   "cell_type": "code",
   "execution_count": null,
   "metadata": {},
   "outputs": [],
   "source": []
  }
 ],
 "metadata": {
  "kernelspec": {
   "display_name": "Python 3",
   "language": "python",
   "name": "python3"
  },
  "language_info": {
   "codemirror_mode": {
    "name": "ipython",
    "version": 3
   },
   "file_extension": ".py",
   "mimetype": "text/x-python",
   "name": "python",
   "nbconvert_exporter": "python",
   "pygments_lexer": "ipython3",
   "version": "3.7.6"
  }
 },
 "nbformat": 4,
 "nbformat_minor": 4
}

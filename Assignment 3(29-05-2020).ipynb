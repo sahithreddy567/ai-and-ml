{
 "cells": [
  {
   "cell_type": "markdown",
   "metadata": {},
   "source": [
    "## CSE-221710308025-K.Sahith Reddy"
   ]
  },
  {
   "cell_type": "code",
   "execution_count": 2,
   "metadata": {},
   "outputs": [
    {
     "name": "stdout",
     "output_type": "stream",
     "text": [
      "6\n",
      "factorial :  720\n"
     ]
    }
   ],
   "source": [
    "#1.Create a function to find Factorial of a number using Recursion\n",
    "def fact(x):\n",
    "    if x==1:\n",
    "        return 1\n",
    "    else:\n",
    "        return x*fact(x-1)\n",
    "\n",
    "n=int(input(''))\n",
    "f=fact(n)\n",
    "print (\"factorial : \",f)"
   ]
  },
  {
   "cell_type": "code",
   "execution_count": 2,
   "metadata": {},
   "outputs": [
    {
     "name": "stdout",
     "output_type": "stream",
     "text": [
      "enter number of series you want: 7\n",
      "Fibonacci sequence:\n",
      "0 1 1 2 3 5 8 "
     ]
    }
   ],
   "source": [
    "#2. Create a function and display ‘n’ Fibonacci numbers using Recursion\n",
    "def fib(n):  \n",
    "    if n <= 1:  \n",
    "        return n  \n",
    "    else:  \n",
    "        return(fib(n-1) + fib(n-2))  \n",
    "k= int(input(\"enter number of series you want: \"))  \n",
    "print(\"Fibonacci sequence:\")  \n",
    "for i in range (k):  \n",
    "       print(fib(i),end=\" \")"
   ]
  },
  {
   "cell_type": "code",
   "execution_count": 3,
   "metadata": {},
   "outputs": [
    {
     "name": "stdout",
     "output_type": "stream",
     "text": [
      "number of elements 4\n",
      "enter values 2\n",
      "enter values 4\n",
      "enter values 6\n",
      "enter values 8\n",
      "sum of all elements is :  20\n"
     ]
    }
   ],
   "source": [
    "#3. Print sum of list of elements without using sum() function\n",
    "num= []\n",
    "total = 0\n",
    "j = 0\n",
    "n = int(input(\"number of elements \"))\n",
    "for i in range(1, n + 1):\n",
    "    value = int(input(\"enter values \" ))\n",
    "    num.append(value)\n",
    "\n",
    "while(j < n):\n",
    "    total = total + num[j]\n",
    "    j = j + 1\n",
    "print(\"sum of all elements is : \", total)"
   ]
  },
  {
   "cell_type": "code",
   "execution_count": 4,
   "metadata": {},
   "outputs": [
    {
     "name": "stdout",
     "output_type": "stream",
     "text": [
      "total number of elements : 6\n",
      "values are: 1\n",
      "values are: 6\n",
      "values are: 5\n",
      "values are: 8\n",
      "values are: 4\n",
      "values are: 9\n",
      "\n",
      "Even Numbers are\n",
      "6   8   4   "
     ]
    }
   ],
   "source": [
    "#4. print only even numbers from the list\n",
    "num = []\n",
    "n = int(input(\"total number of elements : \"))\n",
    "for i in range(1, n + 1):\n",
    "    value = int(input(\"values are: \" ))\n",
    "    num.append(value)\n",
    "print(\"\\nEven Numbers are\")\n",
    "for j in range(n):\n",
    "    if(num[j] % 2 == 0):\n",
    "        print(num[j], end = '   ')"
   ]
  },
  {
   "cell_type": "code",
   "execution_count": 11,
   "metadata": {},
   "outputs": [
    {
     "name": "stdout",
     "output_type": "stream",
     "text": [
      "index of smallest number : 3\n",
      "smallest number from the list : 2\n"
     ]
    }
   ],
   "source": [
    "#5. Write a Python program to get the smallest number from a list and display index of smallest element of the list\n",
    "\n",
    "list=[5,8,9,2,7]\n",
    "b=list.index(min(list))\n",
    "print('index of smallest number :',b)\n",
    "a=min(list)\n",
    "print(\"smallest number from the list :\",a)"
   ]
  },
  {
   "cell_type": "code",
   "execution_count": 12,
   "metadata": {},
   "outputs": [
    {
     "name": "stdout",
     "output_type": "stream",
     "text": [
      "total number of elements 6\n",
      "values are 1\n",
      "values are 2\n",
      "values are 3\n",
      "values are 4\n",
      "values are 5\n",
      "values are 6\n",
      "total odd numbers =   3\n",
      "total even numbers =  3\n"
     ]
    }
   ],
   "source": [
    "#6. Write a Python program to count the number of even and odd numbers from a series of numbers. \n",
    "\n",
    "num=[]\n",
    "ecount = 0\n",
    "ocount = 0\n",
    "n = int(input(\"total number of elements \"))\n",
    "for i in range(1, n+ 1):\n",
    "    value = int(input(\"values are \"))\n",
    "    num.append(value)\n",
    "for j in range(n):\n",
    "    if(num[j] % 2 == 0):\n",
    "        ecount = ecount + 1\n",
    "    else:\n",
    "        ocount = ocount + 1\n",
    "\n",
    "print(\"total odd numbers =  \", ocount)\n",
    "print(\"total even numbers = \", ecount)"
   ]
  },
  {
   "cell_type": "code",
   "execution_count": 13,
   "metadata": {},
   "outputs": [
    {
     "name": "stdout",
     "output_type": "stream",
     "text": [
      "0 1 2 4 5 "
     ]
    }
   ],
   "source": [
    "#7.Write a Python program that prints all the numbers from 0 to 6 except 3 and 6.\n",
    "\n",
    "for x in range(6):\n",
    "    if (x == 3 or x==6):\n",
    "        continue\n",
    "    print(x,end=' ')"
   ]
  },
  {
   "cell_type": "code",
   "execution_count": 15,
   "metadata": {},
   "outputs": [
    {
     "name": "stdout",
     "output_type": "stream",
     "text": [
      "enter a number: 23\n",
      "prime number\n"
     ]
    }
   ],
   "source": [
    "#8.Write a python function to check whether the given number is prime or not\n",
    "\n",
    "num = int(input(\"enter a number: \"))\n",
    "for i in range(2, num):\n",
    "    if num % i  == 0:\n",
    "        print(\"not prime number\")\n",
    "        break\n",
    "else:\n",
    "    print(\"prime number\")"
   ]
  },
  {
   "cell_type": "code",
   "execution_count": 16,
   "metadata": {},
   "outputs": [
    {
     "name": "stdout",
     "output_type": "stream",
     "text": [
      "12\n",
      " is a adam number\n"
     ]
    }
   ],
   "source": [
    "#9.Write a python function to check whether the given number is Adam number or not\n",
    "\n",
    "n =input()\n",
    "rev=n[::-1]\n",
    "nsquare=int(n)**2\n",
    "revsquare=int(rev )**2\n",
    "if int(nsquare )==int(str(revsquare)[::-1]):\n",
    "   print(\" is a adam number\")\n",
    "else:\n",
    "   print(\" is not a adam number\")"
   ]
  },
  {
   "cell_type": "code",
   "execution_count": 27,
   "metadata": {},
   "outputs": [
    {
     "name": "stdout",
     "output_type": "stream",
     "text": [
      "palindrome\n"
     ]
    }
   ],
   "source": [
    "#10.Write a Python function that checks whether a passed string is palindrome or not.\n",
    "def palin(s): \n",
    "    if s==s[::-1]:\n",
    "        print(\"palindrome\")\n",
    "    else:\n",
    "        print(\"not palindrome\")\n",
    "        \n",
    "palin('madam')        \n",
    "        "
   ]
  },
  {
   "cell_type": "code",
   "execution_count": null,
   "metadata": {},
   "outputs": [],
   "source": []
  },
  {
   "cell_type": "code",
   "execution_count": null,
   "metadata": {},
   "outputs": [],
   "source": []
  }
 ],
 "metadata": {
  "kernelspec": {
   "display_name": "Python 3",
   "language": "python",
   "name": "python3"
  },
  "language_info": {
   "codemirror_mode": {
    "name": "ipython",
    "version": 3
   },
   "file_extension": ".py",
   "mimetype": "text/x-python",
   "name": "python",
   "nbconvert_exporter": "python",
   "pygments_lexer": "ipython3",
   "version": "3.7.6"
  }
 },
 "nbformat": 4,
 "nbformat_minor": 4
}

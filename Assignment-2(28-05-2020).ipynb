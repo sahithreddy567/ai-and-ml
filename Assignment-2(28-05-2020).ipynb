{
 "cells": [
  {
   "cell_type": "code",
   "execution_count": 8,
   "metadata": {},
   "outputs": [
    {
     "name": "stdout",
     "output_type": "stream",
     "text": [
      "enter stringPalindrome@#\n",
      "vowels : 4\n",
      "consonants : 6\n",
      "special characters : 2\n"
     ]
    }
   ],
   "source": [
    "#Question 1:\n",
    "#Accept a string from the user and count no.of vowels,consonants and special characters\n",
    "s=(input(\"enter string\"))\n",
    "x=0\n",
    "y=0\n",
    "z=0\n",
    "for i in s.lower():\n",
    "    if i in ['a','e','i','o','u']:\n",
    "        x= x+1\n",
    "    elif i in ['b','c','d','f','g','h','j','k','l','m','n','p','q','r','s','t','v','w','x','y','z']:\n",
    "        y += 1\n",
    "    else:\n",
    "        z +=1\n",
    "print('vowels : {}'.format(x))\n",
    "print('consonants : {}'.format(y))\n",
    "print('special characters : {}'.format(z))\n"
   ]
  },
  {
   "cell_type": "code",
   "execution_count": 16,
   "metadata": {},
   "outputs": [
    {
     "name": "stdout",
     "output_type": "stream",
     "text": [
      "enter string ((((()()()))))()\n",
      "8\n"
     ]
    }
   ],
   "source": [
    "#Test case1:\n",
    "  #      string →  \"((((()()()))))()\"\n",
    "   #     output →  8\n",
    "    #Test case2:\n",
    "     #   string →  \"((()))()\"\n",
    "      #  Output →  4\n",
    "s=input(\"enter string \")\n",
    "c=0\n",
    "i=0\n",
    "while i<(len(s)-1):\n",
    "    if(s[i]=='('):\n",
    "        c+=1\n",
    "    i+=1\n",
    "print(c)"
   ]
  },
  {
   "cell_type": "code",
   "execution_count": 11,
   "metadata": {},
   "outputs": [
    {
     "name": "stdout",
     "output_type": "stream",
     "text": [
      "enter  starting limit1\n",
      "enter  end limit100\n",
      "18\n"
     ]
    }
   ],
   "source": [
    "#Question 4:\n",
    "#Read the input as two limits and Print the output as Palindrome count between the two limits\n",
    "#Example #1; Input : 1 10 Output : 9\n",
    "#Example #2: Input : 1 100 Output : 18\n",
    "\n",
    "n = int(input('enter  starting limit'))\n",
    "m = int(input('enter  end limit'))\n",
    "x=0\n",
    "for i in range(n,m):\n",
    "    if str(i)==str(i)[::-1]:\n",
    "            x=x+1\n",
    "print(x)   "
   ]
  },
  {
   "cell_type": "code",
   "execution_count": 14,
   "metadata": {},
   "outputs": [
    {
     "name": "stdout",
     "output_type": "stream",
     "text": [
      "Appli123cation456\n",
      "21\n"
     ]
    }
   ],
   "source": [
    "#Accept input as a string and display sum of digits as the output \n",
    "#input:Appli123cation456 \n",
    "#Output: 21\n",
    "n=input('')\n",
    "sum= 0\n",
    "for x in n:\n",
    "    if x.isdigit() == True:\n",
    "            z = int(x)\n",
    "            sum= sum + z\n",
    "print(sum)"
   ]
  },
  {
   "cell_type": "code",
   "execution_count": 2,
   "metadata": {},
   "outputs": [
    {
     "name": "stdout",
     "output_type": "stream",
     "text": [
      "Input first number: 26\n",
      "Input second number: 15\n",
      "Input third number: 29\n",
      "The median is 26\n"
     ]
    }
   ],
   "source": [
    "#Write a Python program to find the median of three values.\n",
    "\n",
    "a = int(input(\"Input first number: \"))\n",
    "b = int(input(\"Input second number: \"))\n",
    "c = int(input(\"Input third number: \"))\n",
    "if a > b:\n",
    "    if a < c:\n",
    "        m = a\n",
    "    elif b > c:\n",
    "        m = b\n",
    "    else:\n",
    "        m = c\n",
    "else:\n",
    "    if a > c:\n",
    "        m = a\n",
    "    elif b < c:\n",
    "        m = b\n",
    "    else:\n",
    "        m = c\n",
    "print(\"The median is\", m)"
   ]
  },
  {
   "cell_type": "code",
   "execution_count": 2,
   "metadata": {},
   "outputs": [
    {
     "name": "stdout",
     "output_type": "stream",
     "text": [
      "1\n",
      "2\n",
      "FIZZ\n",
      "4\n",
      "BUZZ\n",
      "FIZZ\n",
      "7\n",
      "8\n",
      "FIZZ\n",
      "BUZZ\n",
      "11\n",
      "FIZZ\n",
      "13\n",
      "14\n",
      "FIZZBUZZ\n",
      "16\n",
      "17\n",
      "FIZZ\n",
      "19\n",
      "BUZZ\n",
      "FIZZ\n",
      "22\n",
      "23\n",
      "FIZZ\n",
      "BUZZ\n",
      "26\n",
      "FIZZ\n",
      "28\n",
      "29\n",
      "FIZZBUZZ\n",
      "31\n",
      "32\n",
      "FIZZ\n",
      "34\n",
      "BUZZ\n",
      "FIZZ\n",
      "37\n",
      "38\n",
      "FIZZ\n",
      "BUZZ\n",
      "41\n",
      "FIZZ\n",
      "43\n",
      "44\n",
      "FIZZBUZZ\n",
      "46\n",
      "47\n",
      "FIZZ\n",
      "49\n",
      "BUZZ\n"
     ]
    }
   ],
   "source": [
    "#Write a Python program which iterates the integers from 1 to 50.\n",
    "#For multiples of three print \"Fizz\" instead of the number and for the multiples of five print \"Buzz\". \n",
    "#For numbers which are multiples of both three and five print \"FizzBuzz\".\n",
    "for i in range(1,51):\n",
    "    if i % 3 == 0 and i % 5 == 0:\n",
    "        print('FIZZBUZZ')\n",
    "    elif i % 3 == 0:\n",
    "        print('FIZZ')\n",
    "    elif i % 5 == 0:\n",
    "        print('BUZZ')\n",
    "    else: \n",
    "        print(i)\n",
    "        "
   ]
  },
  {
   "cell_type": "code",
   "execution_count": 11,
   "metadata": {},
   "outputs": [
    {
     "name": "stdout",
     "output_type": "stream",
     "text": [
      "enter0.85\n",
      "B\n"
     ]
    }
   ],
   "source": [
    "#Write a program to prompt for a score between 0.0 and 1.0.\n",
    "#If the score is out of range, print an error. \n",
    "#If the score is between 0.0 and 1.0, print a grade using the following table:\n",
    "n = float(input('enter'))\n",
    "if n > 1 or n < 0:\n",
    "    print('error')\n",
    "else:    \n",
    "    while n>=0.0 and n<=1.0:\n",
    "        if n >=0.9 and n<1.0:\n",
    "            print('A')\n",
    "            break\n",
    "        elif n >=0.8 and n<0.9:\n",
    "            print('B') \n",
    "            break\n",
    "        elif n >=0.7 and n<0.8:\n",
    "            print('C')\n",
    "            break\n",
    "        elif n >=0.6 and n<0.7:\n",
    "            print('D')\n",
    "            break\n",
    "        elif n<0.6:\n",
    "            print('F')\n",
    "            break\n",
    "      "
   ]
  },
  {
   "cell_type": "code",
   "execution_count": 12,
   "metadata": {},
   "outputs": [
    {
     "name": "stdout",
     "output_type": "stream",
     "text": [
      "puboif\n"
     ]
    }
   ],
   "source": [
    "#input:orange  →   output : puboif\n",
    "value = 'orange'\n",
    "var=(chr(ord(value[0])+1))\n",
    "var1=(chr(ord(value[1])+3))\n",
    "var2=(chr(ord(value[2])+1))\n",
    "var3=(chr(ord(value[3])+1))\n",
    "var4=(chr(ord(value[4])+2))\n",
    "var5=(chr(ord(value[5])+1))\n",
    "value=var+var1+var2+var3+var4+var5\n",
    "print(value)"
   ]
  },
  {
   "cell_type": "code",
   "execution_count": 13,
   "metadata": {},
   "outputs": [
    {
     "name": "stdout",
     "output_type": "stream",
     "text": [
      "enter number127\n",
      "127\n",
      "848\n"
     ]
    }
   ],
   "source": [
    "#Accept a number as an input and check whether the given number is palindrome or not\n",
    "\n",
    "n=int(input(\"enter number\"))\n",
    "s = 0\n",
    "while True:\n",
    "    k = str(n)\n",
    "    if k == k[::-1]:\n",
    "        print(k)\n",
    "        break\n",
    "    else:\n",
    "      m = int(k[::-1])\n",
    "      n += m\n",
    "      s += 1\n",
    "      print(k)"
   ]
  },
  {
   "cell_type": "code",
   "execution_count": 15,
   "metadata": {},
   "outputs": [
    {
     "name": "stdout",
     "output_type": "stream",
     "text": [
      "enter string:  abbaaccbbaaa\n",
      "2\n"
     ]
    }
   ],
   "source": [
    "#count the no.of pairs of a in the given string(Infosys InfyTQ)\n",
    "str=input(\"enter string:  \")\n",
    "count=0\n",
    "i=0\n",
    "k=len(str)\n",
    "while i<k-1:\n",
    "    if(str[i]=='a'):\n",
    "        if(str[i+1]=='a'):\n",
    "            count+=1\n",
    "            i+=1\n",
    "    i+=1\n",
    "print(count)"
   ]
  },
  {
   "cell_type": "code",
   "execution_count": null,
   "metadata": {},
   "outputs": [],
   "source": []
  }
 ],
 "metadata": {
  "kernelspec": {
   "display_name": "Python 3",
   "language": "python",
   "name": "python3"
  },
  "language_info": {
   "codemirror_mode": {
    "name": "ipython",
    "version": 3
   },
   "file_extension": ".py",
   "mimetype": "text/x-python",
   "name": "python",
   "nbconvert_exporter": "python",
   "pygments_lexer": "ipython3",
   "version": "3.7.6"
  }
 },
 "nbformat": 4,
 "nbformat_minor": 4
}

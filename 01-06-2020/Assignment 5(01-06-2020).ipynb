{
 "cells": [
  {
   "cell_type": "markdown",
   "metadata": {},
   "source": [
    "## CSE-221710308025-K.SAHITH REDDY"
   ]
  },
  {
   "cell_type": "code",
   "execution_count": 2,
   "metadata": {},
   "outputs": [
    {
     "name": "stdout",
     "output_type": "stream",
     "text": [
      "throwapple@4\n",
      "enter yes or no : no\n"
     ]
    }
   ],
   "source": [
    "# password picker\n",
    "import random\n",
    "k=\"yes\"\n",
    "while(k==\"yes\"):\n",
    "    verb=[\"hit\",\"hurt\",\"eat\",\"awake\",\"read\",\"feel\",\"meet\",\"rise\",\"shake\",\"write\",\"throw\",\"stick\"]\n",
    "    noun=[\"apple\",\"dog\",\"ball\",\"shirt\",\"coat\",\"denim\",\"himalayas\",\"lion\",\"moon\",\"sun\",\"globe\"]\n",
    "    schar=[\"!\",\"@\",\"#\",\"$\",\"%\",\"^\",\"&\",\"*\",\"(\",\")\"]\n",
    "    num=[1,2,3,4,5,6,7,8,9,10]\n",
    "    r1=random.choice(verb)\n",
    "    r2=random.choice(noun)\n",
    "    r3=random.choice(schar)\n",
    "    r4=random.choice(num)\n",
    "    print(r1,end=\"\")\n",
    "    print(r2,end=\"\")\n",
    "    print(r3,end=\"\")\n",
    "    print(r4)\n",
    "    k=input(\"enter yes or no : \")"
   ]
  },
  {
   "cell_type": "code",
   "execution_count": null,
   "metadata": {},
   "outputs": [],
   "source": []
  }
 ],
 "metadata": {
  "kernelspec": {
   "display_name": "Python 3",
   "language": "python",
   "name": "python3"
  },
  "language_info": {
   "codemirror_mode": {
    "name": "ipython",
    "version": 3
   },
   "file_extension": ".py",
   "mimetype": "text/x-python",
   "name": "python",
   "nbconvert_exporter": "python",
   "pygments_lexer": "ipython3",
   "version": "3.7.6"
  }
 },
 "nbformat": 4,
 "nbformat_minor": 4
}

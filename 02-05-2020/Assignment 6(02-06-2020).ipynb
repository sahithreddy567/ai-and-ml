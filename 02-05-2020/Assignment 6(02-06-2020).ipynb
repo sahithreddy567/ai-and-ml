{
 "cells": [
  {
   "cell_type": "markdown",
   "metadata": {},
   "source": [
    "## CSE-221710308025-K.SAHITH REDDY"
   ]
  },
  {
   "cell_type": "code",
   "execution_count": 1,
   "metadata": {},
   "outputs": [
    {
     "name": "stdout",
     "output_type": "stream",
     "text": [
      "['?', '?', '?', '?', '?']\n",
      "you have 9 chances\n",
      "Guess a letter or word:i\n",
      "['i', '?', '?', '?', '?']\n",
      "Guess a letter or word:t\n",
      "you have still  8  chances\n",
      "['i', '?', '?', '?', '?']\n",
      "Guess a letter or word:n\n",
      "['i', 'n', '?', '?', '?']\n",
      "Guess a letter or word:i\n",
      "['i', 'n', '?', 'i', '?']\n",
      "Guess a letter or word:a\n",
      "['i', 'n', '?', 'i', 'a']\n",
      "Guess a letter or word:g\n",
      "you have still  7  chances\n",
      "['i', 'n', '?', 'i', 'a']\n",
      "Guess a letter or word:k\n",
      "you have still  6  chances\n",
      "['i', 'n', '?', 'i', 'a']\n",
      "Guess a letter or word:d\n",
      "['i', 'n', 'd', 'i', 'a']\n",
      "You won \n",
      " the word is  india\n"
     ]
    }
   ],
   "source": [
    "import random\n",
    "list=[\"china\",\"italy\",\"japan\",\"egypt\",\"india\"] \n",
    "word = random.choice(list)\n",
    "result=[\"?\",\"?\",\"?\",\"?\",\"?\"]\n",
    "turns=9 \n",
    "count=0\n",
    "k=0\n",
    "z=word\n",
    "print(result)\n",
    "print(\"you have 9 chances\")\n",
    "def chang(word):\n",
    "    return list(word)\n",
    "while(turns>0):\n",
    "    ans=input(\"Guess a letter or word:\")\n",
    "    if(len(ans)>1):\n",
    "        if z==ans:\n",
    "            print(\"You won congrats\\n the word is \",word)\n",
    "            break\n",
    "        else:\n",
    "            turns-=1\n",
    "            print(\"you have  \",turns,\" chances\")\n",
    "    else:\n",
    "        for i in word:\n",
    "            if(ans==i):\n",
    "                count+=1\n",
    "                k+=1\n",
    "                r1=word.index(i)\n",
    "                break\n",
    "        if k==0:\n",
    "            turns-=1\n",
    "            print(\"you have still \",turns,\" chances\")\n",
    "            print(result)\n",
    "        else:\n",
    "            result.pop(r1)\n",
    "            word=word.replace(word[r1],\"1\",1)\n",
    "            result.insert(r1,ans)\n",
    "            k=0\n",
    "            print(result)\n",
    "    if(count==5):\n",
    "        print(\"You won \\n the word is \",z)\n",
    "        break\n",
    "if(turns==0):\n",
    "    print(\"You lost\")"
   ]
  },
  {
   "cell_type": "code",
   "execution_count": null,
   "metadata": {},
   "outputs": [],
   "source": []
  }
 ],
 "metadata": {
  "kernelspec": {
   "display_name": "Python 3",
   "language": "python",
   "name": "python3"
  },
  "language_info": {
   "codemirror_mode": {
    "name": "ipython",
    "version": 3
   },
   "file_extension": ".py",
   "mimetype": "text/x-python",
   "name": "python",
   "nbconvert_exporter": "python",
   "pygments_lexer": "ipython3",
   "version": "3.7.6"
  }
 },
 "nbformat": 4,
 "nbformat_minor": 4
}
